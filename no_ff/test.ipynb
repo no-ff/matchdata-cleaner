{
 "cells": [
  {
   "cell_type": "code",
   "execution_count": 1,
   "metadata": {},
   "outputs": [],
   "source": [
    "import requests\n",
    "api = 'RGAPI-b159f828-f893-46f0-8c58-faecf53c0525'\n"
   ]
  },
  {
   "cell_type": "code",
   "execution_count": 2,
   "metadata": {},
   "outputs": [],
   "source": [
    "puuid = '_numZ7P_3tZlzeC8lkHSBsY5MIKVje1kvHNJlt7_Wp9fKEhwJss6VMAc0HfVsdFLlm6oYXwqvdE27Q'\n",
    "match = 'NA1_5012873300'"
   ]
  },
  {
   "cell_type": "code",
   "execution_count": 3,
   "metadata": {},
   "outputs": [],
   "source": [
    "match_data = requests.get(f'https://americas.api.riotgames.com/lol/match/v5/matches/{match}?api_key={api}').json()"
   ]
  },
  {
   "cell_type": "code",
   "execution_count": 4,
   "metadata": {},
   "outputs": [
    {
     "name": "stdout",
     "output_type": "stream",
     "text": [
      "SpectralThreat\n",
      "Ayry\n",
      "Ohhaseeb\n",
      "bigbigpoopy\n",
      "Bánh Trung Thu\n",
      "VV4RH3RO\n",
      "albert\n",
      "Old Man Yi\n",
      "remeti\n",
      "Snoopiku\n"
     ]
    }
   ],
   "source": [
    "players = (match_data['info']['participants'])\n",
    "for x in players:\n",
    "    print(x['riotIdGameName'])\n"
   ]
  },
  {
   "cell_type": "code",
   "execution_count": 5,
   "metadata": {},
   "outputs": [
    {
     "name": "stdout",
     "output_type": "stream",
     "text": [
      "Ekko\n"
     ]
    }
   ],
   "source": [
    "runes=(match_data['info']['participants'][6]['perks'])\n",
    "print(match_data['info']['participants'][6]['championName'])"
   ]
  },
  {
   "cell_type": "code",
   "execution_count": 19,
   "metadata": {},
   "outputs": [],
   "source": [
    "runeset = (runes['styles'][1]['selections'])"
   ]
  },
  {
   "cell_type": "code",
   "execution_count": 26,
   "metadata": {},
   "outputs": [
    {
     "name": "stdout",
     "output_type": "stream",
     "text": [
      "8233\n",
      "8237\n"
     ]
    }
   ],
   "source": [
    "for x in runeset: print(x['perk'])"
   ]
  },
  {
   "cell_type": "code",
   "execution_count": 42,
   "metadata": {},
   "outputs": [],
   "source": [
    "import player_profile"
   ]
  },
  {
   "cell_type": "code",
   "execution_count": 43,
   "metadata": {},
   "outputs": [
    {
     "ename": "KeyError",
     "evalue": "8128",
     "output_type": "error",
     "traceback": [
      "\u001b[1;31m---------------------------------------------------------------------------\u001b[0m",
      "\u001b[1;31mKeyError\u001b[0m                                  Traceback (most recent call last)",
      "Cell \u001b[1;32mIn[43], line 1\u001b[0m\n\u001b[1;32m----> 1\u001b[0m \u001b[43mplayer_profile\u001b[49m\u001b[38;5;241;43m.\u001b[39;49m\u001b[43mget_runes\u001b[49m\u001b[43m(\u001b[49m\u001b[43mrunes\u001b[49m\u001b[43m)\u001b[49m\n",
      "File \u001b[1;32mc:\\Users\\Albert's Build\\Downloads\\coding\\no_ff\\matchdata-cleaner\\no_ff\\player_profile.py:58\u001b[0m, in \u001b[0;36mget_runes\u001b[1;34m(runeset)\u001b[0m\n\u001b[0;32m     56\u001b[0m sec_runes \u001b[38;5;241m=\u001b[39m []\n\u001b[0;32m     57\u001b[0m \u001b[38;5;28;01mfor\u001b[39;00m x \u001b[38;5;129;01min\u001b[39;00m runeset[\u001b[38;5;124m'\u001b[39m\u001b[38;5;124mstyles\u001b[39m\u001b[38;5;124m'\u001b[39m][\u001b[38;5;241m0\u001b[39m][\u001b[38;5;124m'\u001b[39m\u001b[38;5;124mselections\u001b[39m\u001b[38;5;124m'\u001b[39m]:\n\u001b[1;32m---> 58\u001b[0m     prim_runes\u001b[38;5;241m.\u001b[39mappend(\u001b[43mrunes\u001b[49m\u001b[43m[\u001b[49m\u001b[43mx\u001b[49m\u001b[43m[\u001b[49m\u001b[38;5;124;43m'\u001b[39;49m\u001b[38;5;124;43mperk\u001b[39;49m\u001b[38;5;124;43m'\u001b[39;49m\u001b[43m]\u001b[49m\u001b[43m]\u001b[49m)\n\u001b[0;32m     59\u001b[0m \u001b[38;5;28;01mfor\u001b[39;00m x \u001b[38;5;129;01min\u001b[39;00m runeset[\u001b[38;5;124m'\u001b[39m\u001b[38;5;124mstyles\u001b[39m\u001b[38;5;124m'\u001b[39m][\u001b[38;5;241m1\u001b[39m][\u001b[38;5;124m'\u001b[39m\u001b[38;5;124mselections\u001b[39m\u001b[38;5;124m'\u001b[39m]:\n\u001b[0;32m     60\u001b[0m     sec_runes\u001b[38;5;241m.\u001b[39mappend(runes[x[\u001b[38;5;124m'\u001b[39m\u001b[38;5;124mperk\u001b[39m\u001b[38;5;124m'\u001b[39m]])\n",
      "\u001b[1;31mKeyError\u001b[0m: 8128"
     ]
    }
   ],
   "source": [
    "player_profile.get_runes(runes)"
   ]
  },
  {
   "cell_type": "code",
   "execution_count": null,
   "metadata": {},
   "outputs": [],
   "source": []
  }
 ],
 "metadata": {
  "kernelspec": {
   "display_name": "Python 3",
   "language": "python",
   "name": "python3"
  },
  "language_info": {
   "codemirror_mode": {
    "name": "ipython",
    "version": 3
   },
   "file_extension": ".py",
   "mimetype": "text/x-python",
   "name": "python",
   "nbconvert_exporter": "python",
   "pygments_lexer": "ipython3",
   "version": "3.12.3"
  },
  "orig_nbformat": 4
 },
 "nbformat": 4,
 "nbformat_minor": 2
}
