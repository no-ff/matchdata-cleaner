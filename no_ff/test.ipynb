{
 "cells": [
  {
   "cell_type": "code",
   "execution_count": 2,
   "metadata": {},
   "outputs": [],
   "source": [
    "import requests\n",
    "api = 'RGAPI-b159f828-f893-46f0-8c58-faecf53c0525'\n"
   ]
  },
  {
   "cell_type": "code",
   "execution_count": 3,
   "metadata": {},
   "outputs": [],
   "source": [
    "puuid = '_numZ7P_3tZlzeC8lkHSBsY5MIKVje1kvHNJlt7_Wp9fKEhwJss6VMAc0HfVsdFLlm6oYXwqvdE27Q'\n",
    "match = 'NA1_5012873300'"
   ]
  },
  {
   "cell_type": "code",
   "execution_count": 4,
   "metadata": {},
   "outputs": [],
   "source": [
    "match_data = requests.get(f'https://americas.api.riotgames.com/lol/match/v5/matches/{match}?api_key={api}').json()"
   ]
  },
  {
   "cell_type": "code",
   "execution_count": 44,
   "metadata": {},
   "outputs": [
    {
     "name": "stdout",
     "output_type": "stream",
     "text": [
      "SpectralThreat\n",
      "Ayry\n",
      "Ohhaseeb\n",
      "bigbigpoopy\n",
      "Bánh Trung Thu\n",
      "VV4RH3RO\n",
      "albert\n",
      "Old Man Yi\n",
      "remeti\n",
      "Snoopiku\n"
     ]
    }
   ],
   "source": [
    "players = (match_data['info']['participants'])\n",
    "for x in players:\n",
    "    print(x['riotIdGameName'])\n"
   ]
  },
  {
   "cell_type": "code",
   "execution_count": 52,
   "metadata": {},
   "outputs": [
    {
     "name": "stdout",
     "output_type": "stream",
     "text": [
      "Ekko\n"
     ]
    }
   ],
   "source": [
    "runes=(match_data['info']['participants'][6]['perks'])\n",
    "print(match_data['info']['participants'][6]['championName'])"
   ]
  },
  {
   "cell_type": "code",
   "execution_count": 53,
   "metadata": {},
   "outputs": [
    {
     "name": "stdout",
     "output_type": "stream",
     "text": [
      "{'statPerks': {'defense': 5001, 'flex': 5008, 'offense': 5005}, 'styles': [{'description': 'primaryStyle', 'selections': [{'perk': 8128, 'var1': 984, 'var2': 15, 'var3': 0}, {'perk': 8143, 'var1': 1080, 'var2': 0, 'var3': 0}, {'perk': 8138, 'var1': 30, 'var2': 0, 'var3': 0}, {'perk': 8135, 'var1': 320, 'var2': 4, 'var3': 0}], 'style': 8100}, {'description': 'subStyle', 'selections': [{'perk': 8233, 'var1': 18, 'var2': 40, 'var3': 0}, {'perk': 8237, 'var1': 568, 'var2': 0, 'var3': 0}], 'style': 8200}]}\n"
     ]
    }
   ],
   "source": [
    "print(runes)"
   ]
  },
  {
   "cell_type": "code",
   "execution_count": null,
   "metadata": {},
   "outputs": [],
   "source": []
  }
 ],
 "metadata": {
  "kernelspec": {
   "display_name": "Python 3",
   "language": "python",
   "name": "python3"
  },
  "language_info": {
   "codemirror_mode": {
    "name": "ipython",
    "version": 3
   },
   "file_extension": ".py",
   "mimetype": "text/x-python",
   "name": "python",
   "nbconvert_exporter": "python",
   "pygments_lexer": "ipython3",
   "version": "3.11.5"
  },
  "orig_nbformat": 4
 },
 "nbformat": 4,
 "nbformat_minor": 2
}
